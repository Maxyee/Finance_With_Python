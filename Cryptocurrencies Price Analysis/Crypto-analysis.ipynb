{
 "cells": [
  {
   "cell_type": "markdown",
   "id": "b59f46eb",
   "metadata": {},
   "source": [
    "# Cryptocurrencies Price Analysis"
   ]
  },
  {
   "cell_type": "code",
   "execution_count": 3,
   "id": "a8c08a98",
   "metadata": {},
   "outputs": [],
   "source": [
    "import pandas as pd\n",
    "import matplotlib.pyplot as plt\n",
    "plt.style.use('ggplot')\n",
    "%matplotlib inline"
   ]
  },
  {
   "cell_type": "code",
   "execution_count": 4,
   "id": "e2bbf58b",
   "metadata": {},
   "outputs": [
    {
     "data": {
      "text/html": [
       "<div>\n",
       "<style scoped>\n",
       "    .dataframe tbody tr th:only-of-type {\n",
       "        vertical-align: middle;\n",
       "    }\n",
       "\n",
       "    .dataframe tbody tr th {\n",
       "        vertical-align: top;\n",
       "    }\n",
       "\n",
       "    .dataframe thead th {\n",
       "        text-align: right;\n",
       "    }\n",
       "</style>\n",
       "<table border=\"1\" class=\"dataframe\">\n",
       "  <thead>\n",
       "    <tr style=\"text-align: right;\">\n",
       "      <th></th>\n",
       "      <th>Close Price</th>\n",
       "      <th>Symbol</th>\n",
       "    </tr>\n",
       "    <tr>\n",
       "      <th>Date</th>\n",
       "      <th></th>\n",
       "      <th></th>\n",
       "    </tr>\n",
       "  </thead>\n",
       "  <tbody>\n",
       "    <tr>\n",
       "      <th>7/18/2010 0:00</th>\n",
       "      <td>0.09</td>\n",
       "      <td>BTC</td>\n",
       "    </tr>\n",
       "    <tr>\n",
       "      <th>7/19/2010 0:00</th>\n",
       "      <td>0.08</td>\n",
       "      <td>BTC</td>\n",
       "    </tr>\n",
       "    <tr>\n",
       "      <th>7/20/2010 0:00</th>\n",
       "      <td>0.07</td>\n",
       "      <td>BTC</td>\n",
       "    </tr>\n",
       "    <tr>\n",
       "      <th>7/21/2010 0:00</th>\n",
       "      <td>0.08</td>\n",
       "      <td>BTC</td>\n",
       "    </tr>\n",
       "    <tr>\n",
       "      <th>7/22/2010 0:00</th>\n",
       "      <td>0.05</td>\n",
       "      <td>BTC</td>\n",
       "    </tr>\n",
       "  </tbody>\n",
       "</table>\n",
       "</div>"
      ],
      "text/plain": [
       "                Close Price Symbol\n",
       "Date                              \n",
       "7/18/2010 0:00         0.09    BTC\n",
       "7/19/2010 0:00         0.08    BTC\n",
       "7/20/2010 0:00         0.07    BTC\n",
       "7/21/2010 0:00         0.08    BTC\n",
       "7/22/2010 0:00         0.05    BTC"
      ]
     },
     "execution_count": 4,
     "metadata": {},
     "output_type": "execute_result"
    }
   ],
   "source": [
    "df = pd.read_csv('./data/prices-all.csv', index_col='Date')\n",
    "df.head()"
   ]
  },
  {
   "cell_type": "code",
   "execution_count": 5,
   "id": "ac4f6ae2",
   "metadata": {},
   "outputs": [],
   "source": [
    "btc = df[df['Symbol'] == 'BTC']\n",
    "eth = df[df['Symbol'] == 'ETH']"
   ]
  },
  {
   "cell_type": "code",
   "execution_count": null,
   "id": "1afdba94",
   "metadata": {},
   "outputs": [],
   "source": []
  }
 ],
 "metadata": {
  "kernelspec": {
   "display_name": "Python 3",
   "language": "python",
   "name": "python3"
  },
  "language_info": {
   "codemirror_mode": {
    "name": "ipython",
    "version": 3
   },
   "file_extension": ".py",
   "mimetype": "text/x-python",
   "name": "python",
   "nbconvert_exporter": "python",
   "pygments_lexer": "ipython3",
   "version": "3.8.8"
  }
 },
 "nbformat": 4,
 "nbformat_minor": 5
}
