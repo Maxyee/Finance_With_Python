{
 "cells": [
  {
   "cell_type": "markdown",
   "id": "4d57eda2",
   "metadata": {},
   "source": [
    "# Single Stock Analysis"
   ]
  },
  {
   "cell_type": "markdown",
   "id": "0684b543",
   "metadata": {},
   "source": [
    "The notebook here allows to perform analysis for a single exchange security."
   ]
  },
  {
   "cell_type": "code",
   "execution_count": 1,
   "id": "4d46a572",
   "metadata": {},
   "outputs": [
    {
     "name": "stderr",
     "output_type": "stream",
     "text": [
      "Matplotlib is building the font cache; this may take a moment.\n"
     ]
    }
   ],
   "source": [
    "import pandas as pd\n",
    "import numpy as np\n",
    "\n",
    "import matplotlib.pyplot as plt\n",
    "%matplotlib inline"
   ]
  },
  {
   "cell_type": "markdown",
   "id": "393d2e4a",
   "metadata": {},
   "source": [
    "# Data downloading"
   ]
  },
  {
   "cell_type": "code",
   "execution_count": 2,
   "id": "f2fb9f09",
   "metadata": {},
   "outputs": [],
   "source": [
    "start = '2012-01-01'\n",
    "end = '2017-12-31'\n",
    "stock_symbol = 'SLV'\n",
    "\n",
    "# Uncomment line below to download latest quotes for stocks\n",
    "#%run ../money_machine_app/downloaders/stocks_data_downloader.py $start $end $stock_symbol"
   ]
  },
  {
   "cell_type": "markdown",
   "id": "8f29b8b0",
   "metadata": {},
   "source": [
    "\n",
    "# Data preprocessing"
   ]
  },
  {
   "cell_type": "code",
   "execution_count": 2,
   "id": "726dece7",
   "metadata": {},
   "outputs": [
    {
     "ename": "NameError",
     "evalue": "name 'pd' is not defined",
     "output_type": "error",
     "traceback": [
      "\u001b[1;31m---------------------------------------------------------------------------\u001b[0m",
      "\u001b[1;31mNameError\u001b[0m                                 Traceback (most recent call last)",
      "\u001b[1;32m<ipython-input-2-4c3796167962>\u001b[0m in \u001b[0;36m<module>\u001b[1;34m\u001b[0m\n\u001b[0;32m      1\u001b[0m \u001b[1;31m# The CSV file has following columns:\u001b[0m\u001b[1;33m\u001b[0m\u001b[1;33m\u001b[0m\u001b[1;33m\u001b[0m\u001b[0m\n\u001b[0;32m      2\u001b[0m \u001b[1;31m# Data, Otwarcie, Najwyzszy, Najnizszy, Zamkniecie, Wolumen\u001b[0m\u001b[1;33m\u001b[0m\u001b[1;33m\u001b[0m\u001b[1;33m\u001b[0m\u001b[0m\n\u001b[1;32m----> 3\u001b[1;33m stock = pd.read_csv(f'./../data-archive/stocks/{stock_symbol}.csv',\n\u001b[0m\u001b[0;32m      4\u001b[0m                    \u001b[0mdelimiter\u001b[0m\u001b[1;33m=\u001b[0m\u001b[1;34m','\u001b[0m\u001b[1;33m,\u001b[0m\u001b[1;33m\u001b[0m\u001b[1;33m\u001b[0m\u001b[0m\n\u001b[0;32m      5\u001b[0m                    \u001b[0mindex_col\u001b[0m\u001b[1;33m=\u001b[0m\u001b[1;34m'Data'\u001b[0m\u001b[1;33m,\u001b[0m\u001b[1;33m\u001b[0m\u001b[1;33m\u001b[0m\u001b[0m\n",
      "\u001b[1;31mNameError\u001b[0m: name 'pd' is not defined"
     ]
    }
   ],
   "source": [
    "# The CSV file has following columns: \n",
    "# Data, Otwarcie, Najwyzszy, Najnizszy, Zamkniecie, Wolumen\n",
    "stock = pd.read_csv(f'./../data-archive/stocks/{stock_symbol}.csv',\n",
    "                   delimiter=',',\n",
    "                   index_col='Data',\n",
    "                   parse_dates=True)"
   ]
  },
  {
   "cell_type": "code",
   "execution_count": null,
   "id": "facbe1a3",
   "metadata": {},
   "outputs": [],
   "source": []
  }
 ],
 "metadata": {
  "kernelspec": {
   "display_name": "Python 3",
   "language": "python",
   "name": "python3"
  },
  "language_info": {
   "codemirror_mode": {
    "name": "ipython",
    "version": 3
   },
   "file_extension": ".py",
   "mimetype": "text/x-python",
   "name": "python",
   "nbconvert_exporter": "python",
   "pygments_lexer": "ipython3",
   "version": "3.8.8"
  }
 },
 "nbformat": 4,
 "nbformat_minor": 5
}
